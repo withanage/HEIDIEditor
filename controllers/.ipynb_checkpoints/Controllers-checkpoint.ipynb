{
 "metadata": {
  "name": "",
  "signature": "sha256:844d1092509198df31bb3d7e2dc05b21adafd8392aa403827c9e4c80350138fa"
 },
 "nbformat": 3,
 "nbformat_minor": 0,
 "worksheets": []
}